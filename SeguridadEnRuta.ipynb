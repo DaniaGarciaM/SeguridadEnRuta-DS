{
  "cells": [
    {
      "cell_type": "markdown",
      "metadata": {
        "id": "DwHxQ59ZpmW4"
      },
      "source": [
        "# <font color='green'>**Seguridad En Ruta: Desglose de Incidentes Víales por C5 (2022-2023)**</font>\n",
        "\n",
        "\n",
        "\n"
      ]
    },
    {
      "cell_type": "markdown",
      "metadata": {
        "id": "ChMK-7Il2U3Q"
      },
      "source": [
        "## **Introducción**"
      ]
    },
    {
      "cell_type": "markdown",
      "metadata": {
        "id": "YgLpUROysvzr"
      },
      "source": [
        "En el marco del Día Mundial en Recuerdo de las Víctimas de Accidentes de Tránsito, el Instituto Nacional de Estadística y Geografía (INEGI) ha revelado cifras impactantes acerca de la magnitud de los accidentes de tránsito en México durante el año 2021, en el comunicado de prensa titulado *'ESTADÍSTICAS A PROPÓSITO DEL DÍA MUNDIAL EN RECUERDO DE LAS VÍCTIMAS DE ACCIDENTES DE TRÁNSITO'* (*INEGI, 2022*) se reportó un un total de 340,415 incidentes reportados a nivel nacional, que resultaron en 3,849 vidas perdidas y 60,584 personas lesionadas. Lo anterior resalta la la urgencia de abordar la seguridad vial de manera contundente.  \n",
        "<br>\n",
        "En respuesta a este panorama, hemos dirigido nuestra atención hacia la Ciudad de México, utilizando como referencia los datos proporcionados por el Centro de Comando, Control, Cómputo, Comunicaciones y Contacto Ciudadano de la Ciudad de México (C5). Este órgano gubernamental se presenta como el canal principal, siendo el primero en recibir reportes de incidentes viales.   \n",
        "<br>\n",
        "El propósito de este proyecto es llevar a cabo un análisis exhaustivo de las características de los incidentes viales en la Ciudad de México, iluminando patrones, tendencias y áreas potenciales de mejora en seguridad vial. Con la información detallada proporcionada por el C5 y la SSC, buscamos contribuir a la implementación de estrategias y medidas efectivas que reduzcan la incidencia de accidentes y salvaguarden la vida de los ciudadanos en las vías de la ciudad."
      ]
    },
    {
      "cell_type": "markdown",
      "metadata": {
        "id": "1GiZXkHl2xCZ"
      },
      "source": [
        "## **Objetivo**"
      ]
    },
    {
      "cell_type": "markdown",
      "metadata": {
        "id": "5w9KeuTd29G9"
      },
      "source": [
        "<font color='red'>Nota: Escribir objetivo</font>  \n",
        "El dataset utilizado en el desarrollo de este proyecto, denominado **'Incidentes Viales (2022-2023)'**, fue obtenido del **'Portal de Datos Abiertos: Sistema Ajolote'** del Gobierno de la Ciudad de México. Se trata de un conjunto de datos proporcionados por el C5, que puede ser encontrado en el siguiente link:  \n",
        "[Incidentes viales reportados por C5 ](https://datos.cdmx.gob.mx/dataset/incidentes-viales-c5)\n",
        "\n"
      ]
    },
    {
      "cell_type": "markdown",
      "metadata": {
        "id": "nxXzbcyx5FUL"
      },
      "source": [
        "## **Análisis Exploratorio**"
      ]
    },
    {
      "cell_type": "markdown",
      "metadata": {
        "id": "JMqiJwHq7kmj"
      },
      "source": [
        "### Librerías"
      ]
    },
    {
      "cell_type": "code",
      "execution_count": 10,
      "metadata": {
        "id": "6Be1WKdO03wY"
      },
      "outputs": [],
      "source": [
        "import pandas as pd\n",
        "import matplotlib.pyplot as plt\n",
        "import seaborn as sns"
      ]
    },
    {
      "cell_type": "markdown",
      "metadata": {},
      "source": [
        "### Carga de Datos"
      ]
    },
    {
      "cell_type": "markdown",
      "metadata": {},
      "source": [
        "Para la carga de datos desde el dataset en formato CSV, se utiliza la función <font color='green'>**cargar_csv**</font>, la cual toma una URL como parámetro, asumiendo que el archivo CSV está alojado en la web, específicamente en un repositorio de GitHub. La función está diseñada con un bloque try/except: en el try, se asigna el resultado del método **read_csv** de la biblioteca Pandas a un objeto llamado df, y se imprime un mensaje indicando *'Carga de datos con éxito'*. En caso de que la operación no sea exitosa, se maneja la excepción y se imprime un mensaje de error.\n",
        "\n",
        "Posterior a la carga del CSV, se imprimen los primeros 5 registros del DataFrame mediante el método **.head()**. En caso contrario, se imprime un mensaje de error."
      ]
    },
    {
      "cell_type": "code",
      "execution_count": 15,
      "metadata": {},
      "outputs": [],
      "source": [
        "def cargar_csv(url):\n",
        "  try:\n",
        "    df = pd.read_csv(url)\n",
        "    print('Carga de datos con éxito.')\n",
        "    return df\n",
        "  except Exception as e:\n",
        "    print(f'Error al leer el archivo CSV desde {url}: {e}');\n",
        "    return None"
      ]
    },
    {
      "cell_type": "code",
      "execution_count": 16,
      "metadata": {},
      "outputs": [
        {
          "name": "stdout",
          "output_type": "stream",
          "text": [
            "Carga de datos con éxito.\n"
          ]
        },
        {
          "data": {
            "text/html": [
              "<div>\n",
              "<style scoped>\n",
              "    .dataframe tbody tr th:only-of-type {\n",
              "        vertical-align: middle;\n",
              "    }\n",
              "\n",
              "    .dataframe tbody tr th {\n",
              "        vertical-align: top;\n",
              "    }\n",
              "\n",
              "    .dataframe thead th {\n",
              "        text-align: right;\n",
              "    }\n",
              "</style>\n",
              "<table border=\"1\" class=\"dataframe\">\n",
              "  <thead>\n",
              "    <tr style=\"text-align: right;\">\n",
              "      <th></th>\n",
              "      <th>folio</th>\n",
              "      <th>fecha_creacion</th>\n",
              "      <th>hora_creacion</th>\n",
              "      <th>dia_semana</th>\n",
              "      <th>fecha_cierre</th>\n",
              "      <th>hora_cierre</th>\n",
              "      <th>tipo_incidente_c4</th>\n",
              "      <th>incidente_c4</th>\n",
              "      <th>alcaldia_inicio</th>\n",
              "      <th>latitud</th>\n",
              "      <th>longitud</th>\n",
              "      <th>codigo_cierre</th>\n",
              "      <th>clas_con_f_alarma</th>\n",
              "      <th>tipo_entrada</th>\n",
              "      <th>alcaldia_cierre</th>\n",
              "      <th>colonia</th>\n",
              "    </tr>\n",
              "  </thead>\n",
              "  <tbody>\n",
              "    <tr>\n",
              "      <th>0</th>\n",
              "      <td>C2C/20211229/00212</td>\n",
              "      <td>2021-12-29</td>\n",
              "      <td>23:21:20</td>\n",
              "      <td>Miércoles</td>\n",
              "      <td>2022-01-01</td>\n",
              "      <td>00:24:06</td>\n",
              "      <td>Lesionado</td>\n",
              "      <td>Atropellado</td>\n",
              "      <td>NaN</td>\n",
              "      <td>19.421610</td>\n",
              "      <td>-99.163670</td>\n",
              "      <td>I</td>\n",
              "      <td>URGENCIAS MEDICAS</td>\n",
              "      <td>BOTÓN DE AUXILIO</td>\n",
              "      <td>NaN</td>\n",
              "      <td>ROMA NORTE I</td>\n",
              "    </tr>\n",
              "    <tr>\n",
              "      <th>1</th>\n",
              "      <td>C2C/20211231/00183</td>\n",
              "      <td>2021-12-31</td>\n",
              "      <td>23:48:03</td>\n",
              "      <td>Viernes</td>\n",
              "      <td>2022-01-01</td>\n",
              "      <td>06:29:52</td>\n",
              "      <td>Lesionado</td>\n",
              "      <td>Atropellado</td>\n",
              "      <td>CUAUHTEMOC</td>\n",
              "      <td>19.409910</td>\n",
              "      <td>-99.144270</td>\n",
              "      <td>A</td>\n",
              "      <td>URGENCIAS MEDICAS</td>\n",
              "      <td>BOTÓN DE AUXILIO</td>\n",
              "      <td>CUAUHTEMOC</td>\n",
              "      <td>OBRERA III</td>\n",
              "    </tr>\n",
              "    <tr>\n",
              "      <th>2</th>\n",
              "      <td>C2C/20220101/00012</td>\n",
              "      <td>2022-01-01</td>\n",
              "      <td>01:06:39</td>\n",
              "      <td>Sábado</td>\n",
              "      <td>2022-01-01</td>\n",
              "      <td>06:00:12</td>\n",
              "      <td>Accidente</td>\n",
              "      <td>Choque con lesionados</td>\n",
              "      <td>CUAUHTEMOC</td>\n",
              "      <td>19.415250</td>\n",
              "      <td>-99.148320</td>\n",
              "      <td>A</td>\n",
              "      <td>URGENCIAS MEDICAS</td>\n",
              "      <td>BOTÓN DE AUXILIO</td>\n",
              "      <td>CUAUHTEMOC</td>\n",
              "      <td>DOCTORES IV</td>\n",
              "    </tr>\n",
              "    <tr>\n",
              "      <th>3</th>\n",
              "      <td>C2C/20220101/00070</td>\n",
              "      <td>2022-01-01</td>\n",
              "      <td>09:51:53</td>\n",
              "      <td>Sábado</td>\n",
              "      <td>2022-01-01</td>\n",
              "      <td>12:54:10</td>\n",
              "      <td>Accidente</td>\n",
              "      <td>Motociclista</td>\n",
              "      <td>CUAUHTEMOC</td>\n",
              "      <td>19.443649</td>\n",
              "      <td>-99.165781</td>\n",
              "      <td>A</td>\n",
              "      <td>URGENCIAS MEDICAS</td>\n",
              "      <td>RADIO</td>\n",
              "      <td>CUAUHTEMOC</td>\n",
              "      <td>TLAXPANA</td>\n",
              "    </tr>\n",
              "    <tr>\n",
              "      <th>4</th>\n",
              "      <td>C2N/20211231/00128</td>\n",
              "      <td>2021-12-31</td>\n",
              "      <td>23:03:05</td>\n",
              "      <td>Viernes</td>\n",
              "      <td>2022-01-01</td>\n",
              "      <td>06:16:42</td>\n",
              "      <td>Accidente</td>\n",
              "      <td>Choque sin lesionados</td>\n",
              "      <td>IZTACALCO</td>\n",
              "      <td>19.414620</td>\n",
              "      <td>-99.060450</td>\n",
              "      <td>A</td>\n",
              "      <td>EMERGENCIA</td>\n",
              "      <td>BOTÓN DE AUXILIO</td>\n",
              "      <td>IZTACALCO</td>\n",
              "      <td>PANTITLAN II</td>\n",
              "    </tr>\n",
              "  </tbody>\n",
              "</table>\n",
              "</div>"
            ],
            "text/plain": [
              "                folio fecha_creacion hora_creacion dia_semana fecha_cierre  \\\n",
              "0  C2C/20211229/00212     2021-12-29      23:21:20  Miércoles   2022-01-01   \n",
              "1  C2C/20211231/00183     2021-12-31      23:48:03    Viernes   2022-01-01   \n",
              "2  C2C/20220101/00012     2022-01-01      01:06:39     Sábado   2022-01-01   \n",
              "3  C2C/20220101/00070     2022-01-01      09:51:53     Sábado   2022-01-01   \n",
              "4  C2N/20211231/00128     2021-12-31      23:03:05    Viernes   2022-01-01   \n",
              "\n",
              "  hora_cierre tipo_incidente_c4           incidente_c4 alcaldia_inicio  \\\n",
              "0    00:24:06         Lesionado            Atropellado             NaN   \n",
              "1    06:29:52         Lesionado            Atropellado      CUAUHTEMOC   \n",
              "2    06:00:12         Accidente  Choque con lesionados      CUAUHTEMOC   \n",
              "3    12:54:10         Accidente           Motociclista      CUAUHTEMOC   \n",
              "4    06:16:42         Accidente  Choque sin lesionados       IZTACALCO   \n",
              "\n",
              "     latitud   longitud codigo_cierre  clas_con_f_alarma      tipo_entrada  \\\n",
              "0  19.421610 -99.163670             I  URGENCIAS MEDICAS  BOTÓN DE AUXILIO   \n",
              "1  19.409910 -99.144270             A  URGENCIAS MEDICAS  BOTÓN DE AUXILIO   \n",
              "2  19.415250 -99.148320             A  URGENCIAS MEDICAS  BOTÓN DE AUXILIO   \n",
              "3  19.443649 -99.165781             A  URGENCIAS MEDICAS             RADIO   \n",
              "4  19.414620 -99.060450             A         EMERGENCIA  BOTÓN DE AUXILIO   \n",
              "\n",
              "  alcaldia_cierre       colonia  \n",
              "0             NaN  ROMA NORTE I  \n",
              "1      CUAUHTEMOC    OBRERA III  \n",
              "2      CUAUHTEMOC   DOCTORES IV  \n",
              "3      CUAUHTEMOC      TLAXPANA  \n",
              "4       IZTACALCO  PANTITLAN II  "
            ]
          },
          "execution_count": 16,
          "metadata": {},
          "output_type": "execute_result"
        }
      ],
      "source": [
        "url = 'https://raw.githubusercontent.com/DaniaGarciaM/SeguridadEnRuta-DS/main/inViales_2022_2023.csv'\n",
        "df = cargar_csv(url)\n",
        "df.head()"
      ]
    },
    {
      "cell_type": "markdown",
      "metadata": {},
      "source": [
        "### Análisis Exploratorio de Datos"
      ]
    },
    {
      "cell_type": "code",
      "execution_count": 17,
      "metadata": {},
      "outputs": [],
      "source": [
        "def explorar_dataset(df):\n",
        "  print(f'El DataFrame está conformado por {df.shape[1]} columnas y {df.shape[0]} registros en total')\n",
        "  print()\n",
        "  print(f'TIPOS DE DATOS')\n",
        "  print(f'----------------------')\n",
        "  print(df.dtypes)\n",
        "  print(f'----------------------')\n"
      ]
    },
    {
      "cell_type": "code",
      "execution_count": 18,
      "metadata": {},
      "outputs": [
        {
          "name": "stdout",
          "output_type": "stream",
          "text": [
            "El DataFrame está conformado por 16 columnas y 363372 registros en total\n",
            "\n",
            "TIPOS DE DATOS\n",
            "----------------------\n",
            "folio                 object\n",
            "fecha_creacion        object\n",
            "hora_creacion         object\n",
            "dia_semana            object\n",
            "fecha_cierre          object\n",
            "hora_cierre           object\n",
            "tipo_incidente_c4     object\n",
            "incidente_c4          object\n",
            "alcaldia_inicio       object\n",
            "latitud              float64\n",
            "longitud             float64\n",
            "codigo_cierre         object\n",
            "clas_con_f_alarma     object\n",
            "tipo_entrada          object\n",
            "alcaldia_cierre       object\n",
            "colonia               object\n",
            "dtype: object\n",
            "----------------------\n"
          ]
        }
      ],
      "source": [
        "explorar_dataset(df)"
      ]
    },
    {
      "cell_type": "markdown",
      "metadata": {},
      "source": [
        "En el apartado 'De la información contenida' del sitio donde se obtuvo el dataset, se menciona que los registros recibidos en el C5 se clasifican internamente mediante un código de cierre. Para contabilizar los incidentes considerados como 'reales', es decir, aquellos confirmados por las autoridades en el lugar de los hechos, se debe trabajar exclusivamente con los códigos de cierre etiquetados como 'Afirmativo'.  \n",
        "Teniendo eso en cuenta, se procederá a eliminar todos aquellos registros que no hayan sido considerados como reales, en la columna *'codigo_cierre'*, empleando la función <font color='green'>**seleccionar_registros_por_codigo**</font>."
      ]
    },
    {
      "cell_type": "code",
      "execution_count": 19,
      "metadata": {},
      "outputs": [],
      "source": [
        "def seleccionar_registros_por_codigo(df, columna='codigo_cierre', valor_codigo='A'):\n",
        "  try:\n",
        "    df_total_registros = df.shape[0]\n",
        "    df_filtrado = df[df[columna] == valor_codigo]\n",
        "    df_total_filtrado = df_filtrado.shape[0]\n",
        "    print(f'Después de filtrar los registros con código de cierre \"{valor_codigo}\", quedan {df_total_filtrado} de {df_total_registros} registros.')\n",
        "    df_filtrado = df_filtrado.reset_index(drop=True)\n",
        "    return df_filtrado\n",
        "  except KeyError:\n",
        "    print(f'Error: La columna \"{columna}\" no existe en el DataFrame.')\n",
        "    return None\n"
      ]
    },
    {
      "cell_type": "code",
      "execution_count": 20,
      "metadata": {},
      "outputs": [
        {
          "name": "stdout",
          "output_type": "stream",
          "text": [
            "Después de filtrar los registros con código de cierre \"A\", quedan 134741 de 363372 registros.\n"
          ]
        },
        {
          "data": {
            "text/html": [
              "<div>\n",
              "<style scoped>\n",
              "    .dataframe tbody tr th:only-of-type {\n",
              "        vertical-align: middle;\n",
              "    }\n",
              "\n",
              "    .dataframe tbody tr th {\n",
              "        vertical-align: top;\n",
              "    }\n",
              "\n",
              "    .dataframe thead th {\n",
              "        text-align: right;\n",
              "    }\n",
              "</style>\n",
              "<table border=\"1\" class=\"dataframe\">\n",
              "  <thead>\n",
              "    <tr style=\"text-align: right;\">\n",
              "      <th></th>\n",
              "      <th>folio</th>\n",
              "      <th>fecha_creacion</th>\n",
              "      <th>hora_creacion</th>\n",
              "      <th>dia_semana</th>\n",
              "      <th>fecha_cierre</th>\n",
              "      <th>hora_cierre</th>\n",
              "      <th>tipo_incidente_c4</th>\n",
              "      <th>incidente_c4</th>\n",
              "      <th>alcaldia_inicio</th>\n",
              "      <th>latitud</th>\n",
              "      <th>longitud</th>\n",
              "      <th>codigo_cierre</th>\n",
              "      <th>clas_con_f_alarma</th>\n",
              "      <th>tipo_entrada</th>\n",
              "      <th>alcaldia_cierre</th>\n",
              "      <th>colonia</th>\n",
              "    </tr>\n",
              "  </thead>\n",
              "  <tbody>\n",
              "    <tr>\n",
              "      <th>0</th>\n",
              "      <td>C2C/20211231/00183</td>\n",
              "      <td>2021-12-31</td>\n",
              "      <td>23:48:03</td>\n",
              "      <td>Viernes</td>\n",
              "      <td>2022-01-01</td>\n",
              "      <td>06:29:52</td>\n",
              "      <td>Lesionado</td>\n",
              "      <td>Atropellado</td>\n",
              "      <td>CUAUHTEMOC</td>\n",
              "      <td>19.409910</td>\n",
              "      <td>-99.144270</td>\n",
              "      <td>A</td>\n",
              "      <td>URGENCIAS MEDICAS</td>\n",
              "      <td>BOTÓN DE AUXILIO</td>\n",
              "      <td>CUAUHTEMOC</td>\n",
              "      <td>OBRERA III</td>\n",
              "    </tr>\n",
              "    <tr>\n",
              "      <th>1</th>\n",
              "      <td>C2C/20220101/00012</td>\n",
              "      <td>2022-01-01</td>\n",
              "      <td>01:06:39</td>\n",
              "      <td>Sábado</td>\n",
              "      <td>2022-01-01</td>\n",
              "      <td>06:00:12</td>\n",
              "      <td>Accidente</td>\n",
              "      <td>Choque con lesionados</td>\n",
              "      <td>CUAUHTEMOC</td>\n",
              "      <td>19.415250</td>\n",
              "      <td>-99.148320</td>\n",
              "      <td>A</td>\n",
              "      <td>URGENCIAS MEDICAS</td>\n",
              "      <td>BOTÓN DE AUXILIO</td>\n",
              "      <td>CUAUHTEMOC</td>\n",
              "      <td>DOCTORES IV</td>\n",
              "    </tr>\n",
              "    <tr>\n",
              "      <th>2</th>\n",
              "      <td>C2C/20220101/00070</td>\n",
              "      <td>2022-01-01</td>\n",
              "      <td>09:51:53</td>\n",
              "      <td>Sábado</td>\n",
              "      <td>2022-01-01</td>\n",
              "      <td>12:54:10</td>\n",
              "      <td>Accidente</td>\n",
              "      <td>Motociclista</td>\n",
              "      <td>CUAUHTEMOC</td>\n",
              "      <td>19.443649</td>\n",
              "      <td>-99.165781</td>\n",
              "      <td>A</td>\n",
              "      <td>URGENCIAS MEDICAS</td>\n",
              "      <td>RADIO</td>\n",
              "      <td>CUAUHTEMOC</td>\n",
              "      <td>TLAXPANA</td>\n",
              "    </tr>\n",
              "    <tr>\n",
              "      <th>3</th>\n",
              "      <td>C2N/20211231/00128</td>\n",
              "      <td>2021-12-31</td>\n",
              "      <td>23:03:05</td>\n",
              "      <td>Viernes</td>\n",
              "      <td>2022-01-01</td>\n",
              "      <td>06:16:42</td>\n",
              "      <td>Accidente</td>\n",
              "      <td>Choque sin lesionados</td>\n",
              "      <td>IZTACALCO</td>\n",
              "      <td>19.414620</td>\n",
              "      <td>-99.060450</td>\n",
              "      <td>A</td>\n",
              "      <td>EMERGENCIA</td>\n",
              "      <td>BOTÓN DE AUXILIO</td>\n",
              "      <td>IZTACALCO</td>\n",
              "      <td>PANTITLAN II</td>\n",
              "    </tr>\n",
              "    <tr>\n",
              "      <th>4</th>\n",
              "      <td>C2N/20220101/00101</td>\n",
              "      <td>2022-01-01</td>\n",
              "      <td>09:56:54</td>\n",
              "      <td>Sábado</td>\n",
              "      <td>2022-01-01</td>\n",
              "      <td>13:04:08</td>\n",
              "      <td>Accidente</td>\n",
              "      <td>Choque sin lesionados</td>\n",
              "      <td>GUSTAVO A. MADERO</td>\n",
              "      <td>19.451630</td>\n",
              "      <td>-99.054690</td>\n",
              "      <td>A</td>\n",
              "      <td>EMERGENCIA</td>\n",
              "      <td>BOTÓN DE AUXILIO</td>\n",
              "      <td>GUSTAVO A. MADERO</td>\n",
              "      <td>C T M ARAGON (U)</td>\n",
              "    </tr>\n",
              "  </tbody>\n",
              "</table>\n",
              "</div>"
            ],
            "text/plain": [
              "                folio fecha_creacion hora_creacion dia_semana fecha_cierre  \\\n",
              "0  C2C/20211231/00183     2021-12-31      23:48:03    Viernes   2022-01-01   \n",
              "1  C2C/20220101/00012     2022-01-01      01:06:39     Sábado   2022-01-01   \n",
              "2  C2C/20220101/00070     2022-01-01      09:51:53     Sábado   2022-01-01   \n",
              "3  C2N/20211231/00128     2021-12-31      23:03:05    Viernes   2022-01-01   \n",
              "4  C2N/20220101/00101     2022-01-01      09:56:54     Sábado   2022-01-01   \n",
              "\n",
              "  hora_cierre tipo_incidente_c4           incidente_c4    alcaldia_inicio  \\\n",
              "0    06:29:52         Lesionado            Atropellado         CUAUHTEMOC   \n",
              "1    06:00:12         Accidente  Choque con lesionados         CUAUHTEMOC   \n",
              "2    12:54:10         Accidente           Motociclista         CUAUHTEMOC   \n",
              "3    06:16:42         Accidente  Choque sin lesionados          IZTACALCO   \n",
              "4    13:04:08         Accidente  Choque sin lesionados  GUSTAVO A. MADERO   \n",
              "\n",
              "     latitud   longitud codigo_cierre  clas_con_f_alarma      tipo_entrada  \\\n",
              "0  19.409910 -99.144270             A  URGENCIAS MEDICAS  BOTÓN DE AUXILIO   \n",
              "1  19.415250 -99.148320             A  URGENCIAS MEDICAS  BOTÓN DE AUXILIO   \n",
              "2  19.443649 -99.165781             A  URGENCIAS MEDICAS             RADIO   \n",
              "3  19.414620 -99.060450             A         EMERGENCIA  BOTÓN DE AUXILIO   \n",
              "4  19.451630 -99.054690             A         EMERGENCIA  BOTÓN DE AUXILIO   \n",
              "\n",
              "     alcaldia_cierre           colonia  \n",
              "0         CUAUHTEMOC        OBRERA III  \n",
              "1         CUAUHTEMOC       DOCTORES IV  \n",
              "2         CUAUHTEMOC          TLAXPANA  \n",
              "3          IZTACALCO      PANTITLAN II  \n",
              "4  GUSTAVO A. MADERO  C T M ARAGON (U)  "
            ]
          },
          "execution_count": 20,
          "metadata": {},
          "output_type": "execute_result"
        }
      ],
      "source": [
        "df_afirmativo = seleccionar_registros_por_codigo(df)\n",
        "df_afirmativo.head()"
      ]
    },
    {
      "cell_type": "markdown",
      "metadata": {},
      "source": [
        "Antes de sumerginos en un análisis más profundo de nuestro de conjunto de datos, es esencial abordar la presencia de valores faltantes o NaN. La función <font color='green'>**contar_valores_faltantes**</font> realiza un análisis rápido del DataFrame proporcionado para identificar y contar la cantidad de valores faltantes en cada columna. Utiliza el método **.isna()** para crear una matriz booleana indicando la presencia de valores nulos en el DataFrame y luego utiliza **.sum()** para contar la cantidad de True (valores nulos) en cada columna. El resultado es una serie que muestra la cantidad de valores faltantes por columna."
      ]
    },
    {
      "cell_type": "code",
      "execution_count": 21,
      "metadata": {},
      "outputs": [],
      "source": [
        "def contar_valores_faltantes(df):\n",
        "  print(df.isna().sum())"
      ]
    },
    {
      "cell_type": "code",
      "execution_count": 22,
      "metadata": {},
      "outputs": [
        {
          "name": "stdout",
          "output_type": "stream",
          "text": [
            "folio                   0\n",
            "fecha_creacion          0\n",
            "hora_creacion           0\n",
            "dia_semana              0\n",
            "fecha_cierre            0\n",
            "hora_cierre             0\n",
            "tipo_incidente_c4       0\n",
            "incidente_c4            0\n",
            "alcaldia_inicio         2\n",
            "latitud                 0\n",
            "longitud                0\n",
            "codigo_cierre           0\n",
            "clas_con_f_alarma       0\n",
            "tipo_entrada            2\n",
            "alcaldia_cierre         2\n",
            "colonia              1361\n",
            "dtype: int64\n"
          ]
        }
      ],
      "source": [
        "contar_valores_faltantes(df_afirmativo)"
      ]
    }
  ],
  "metadata": {
    "colab": {
      "provenance": []
    },
    "kernelspec": {
      "display_name": "Python 3",
      "name": "python3"
    },
    "language_info": {
      "codemirror_mode": {
        "name": "ipython",
        "version": 3
      },
      "file_extension": ".py",
      "mimetype": "text/x-python",
      "name": "python",
      "nbconvert_exporter": "python",
      "pygments_lexer": "ipython3",
      "version": "3.12.1"
    }
  },
  "nbformat": 4,
  "nbformat_minor": 0
}
